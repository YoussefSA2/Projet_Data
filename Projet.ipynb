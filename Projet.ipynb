{
 "cells": [
  {
   "cell_type": "code",
   "execution_count": 4,
   "metadata": {},
   "outputs": [],
   "source": [
    "import numpy as np \n",
    "import pandas as pd \n",
    "import matplotlib.pyplot as plt \n",
    "from scipy.stats import pearsonr\n",
    "from sklearn.decomposition import PCA   \n",
    "from sklearn.preprocessing import StandardScaler\n",
    "dataset = pd.read_csv(\n",
    "    filepath_or_buffer=\"Jeux/Cars.csv\",\n",
    "    decimal=\".\", \n",
    "    sep=\";\"\n",
    ")"
   ]
  },
  {
   "cell_type": "code",
   "execution_count": 14,
   "metadata": {},
   "outputs": [
    {
     "name": "stdout",
     "output_type": "stream",
     "text": [
      "Sur ce projet on a 193 voiture à vendre et accompagné 25 caractéristique(variables).\n"
     ]
    }
   ],
   "source": [
    "print(\"Sur ce projet on a\", dataset.shape[0], \"voiture à vendre et accompagné\", dataset.shape[1], \"caractéristique(variables).\")\n"
   ]
  },
  {
   "cell_type": "code",
   "execution_count": 9,
   "metadata": {},
   "outputs": [
    {
     "data": {
      "text/html": [
       "<div>\n",
       "<style scoped>\n",
       "    .dataframe tbody tr th:only-of-type {\n",
       "        vertical-align: middle;\n",
       "    }\n",
       "\n",
       "    .dataframe tbody tr th {\n",
       "        vertical-align: top;\n",
       "    }\n",
       "\n",
       "    .dataframe thead th {\n",
       "        text-align: right;\n",
       "    }\n",
       "</style>\n",
       "<table border=\"1\" class=\"dataframe\">\n",
       "  <thead>\n",
       "    <tr style=\"text-align: right;\">\n",
       "      <th></th>\n",
       "      <th>continent</th>\n",
       "      <th>make</th>\n",
       "      <th>fuel-type</th>\n",
       "      <th>aspiration</th>\n",
       "      <th>num-of-doors</th>\n",
       "      <th>body-style</th>\n",
       "      <th>drive-wheels</th>\n",
       "      <th>engine-location</th>\n",
       "      <th>engine-type</th>\n",
       "      <th>num-of-cylinders</th>\n",
       "      <th>...</th>\n",
       "      <th>peak-rpm</th>\n",
       "      <th>city-mpg</th>\n",
       "      <th>highway-mpg</th>\n",
       "      <th>price</th>\n",
       "      <th>wheel-base</th>\n",
       "      <th>length</th>\n",
       "      <th>width</th>\n",
       "      <th>height</th>\n",
       "      <th>curb-weight</th>\n",
       "      <th>engine-size</th>\n",
       "    </tr>\n",
       "  </thead>\n",
       "  <tbody>\n",
       "    <tr>\n",
       "      <th>0</th>\n",
       "      <td>europe</td>\n",
       "      <td>alfa-romero</td>\n",
       "      <td>gas</td>\n",
       "      <td>std</td>\n",
       "      <td>two</td>\n",
       "      <td>convertible</td>\n",
       "      <td>rwd</td>\n",
       "      <td>front</td>\n",
       "      <td>dohc</td>\n",
       "      <td>four</td>\n",
       "      <td>...</td>\n",
       "      <td>5000</td>\n",
       "      <td>21</td>\n",
       "      <td>27</td>\n",
       "      <td>13495</td>\n",
       "      <td>88.6</td>\n",
       "      <td>168.8</td>\n",
       "      <td>64.1</td>\n",
       "      <td>48.8</td>\n",
       "      <td>2548</td>\n",
       "      <td>130</td>\n",
       "    </tr>\n",
       "    <tr>\n",
       "      <th>1</th>\n",
       "      <td>europe</td>\n",
       "      <td>alfa-romero</td>\n",
       "      <td>gas</td>\n",
       "      <td>std</td>\n",
       "      <td>two</td>\n",
       "      <td>convertible</td>\n",
       "      <td>rwd</td>\n",
       "      <td>front</td>\n",
       "      <td>dohc</td>\n",
       "      <td>four</td>\n",
       "      <td>...</td>\n",
       "      <td>5000</td>\n",
       "      <td>21</td>\n",
       "      <td>27</td>\n",
       "      <td>16500</td>\n",
       "      <td>88.6</td>\n",
       "      <td>168.8</td>\n",
       "      <td>64.1</td>\n",
       "      <td>48.8</td>\n",
       "      <td>2548</td>\n",
       "      <td>130</td>\n",
       "    </tr>\n",
       "    <tr>\n",
       "      <th>2</th>\n",
       "      <td>europe</td>\n",
       "      <td>alfa-romero</td>\n",
       "      <td>gas</td>\n",
       "      <td>std</td>\n",
       "      <td>two</td>\n",
       "      <td>hatchback</td>\n",
       "      <td>rwd</td>\n",
       "      <td>front</td>\n",
       "      <td>ohcv</td>\n",
       "      <td>six</td>\n",
       "      <td>...</td>\n",
       "      <td>5000</td>\n",
       "      <td>19</td>\n",
       "      <td>26</td>\n",
       "      <td>16500</td>\n",
       "      <td>94.5</td>\n",
       "      <td>171.2</td>\n",
       "      <td>65.5</td>\n",
       "      <td>52.4</td>\n",
       "      <td>2823</td>\n",
       "      <td>152</td>\n",
       "    </tr>\n",
       "    <tr>\n",
       "      <th>3</th>\n",
       "      <td>europe</td>\n",
       "      <td>audi</td>\n",
       "      <td>gas</td>\n",
       "      <td>std</td>\n",
       "      <td>four</td>\n",
       "      <td>sedan</td>\n",
       "      <td>fwd</td>\n",
       "      <td>front</td>\n",
       "      <td>ohc</td>\n",
       "      <td>four</td>\n",
       "      <td>...</td>\n",
       "      <td>5500</td>\n",
       "      <td>24</td>\n",
       "      <td>30</td>\n",
       "      <td>13950</td>\n",
       "      <td>99.8</td>\n",
       "      <td>176.6</td>\n",
       "      <td>66.2</td>\n",
       "      <td>54.3</td>\n",
       "      <td>2337</td>\n",
       "      <td>109</td>\n",
       "    </tr>\n",
       "    <tr>\n",
       "      <th>4</th>\n",
       "      <td>europe</td>\n",
       "      <td>audi</td>\n",
       "      <td>gas</td>\n",
       "      <td>std</td>\n",
       "      <td>four</td>\n",
       "      <td>sedan</td>\n",
       "      <td>4wd</td>\n",
       "      <td>front</td>\n",
       "      <td>ohc</td>\n",
       "      <td>five</td>\n",
       "      <td>...</td>\n",
       "      <td>5500</td>\n",
       "      <td>18</td>\n",
       "      <td>22</td>\n",
       "      <td>17450</td>\n",
       "      <td>99.4</td>\n",
       "      <td>176.6</td>\n",
       "      <td>66.4</td>\n",
       "      <td>54.3</td>\n",
       "      <td>2824</td>\n",
       "      <td>136</td>\n",
       "    </tr>\n",
       "  </tbody>\n",
       "</table>\n",
       "<p>5 rows × 25 columns</p>\n",
       "</div>"
      ],
      "text/plain": [
       "  continent         make fuel-type aspiration num-of-doors   body-style  \\\n",
       "0    europe  alfa-romero       gas        std          two  convertible   \n",
       "1    europe  alfa-romero       gas        std          two  convertible   \n",
       "2    europe  alfa-romero       gas        std          two    hatchback   \n",
       "3    europe         audi       gas        std         four        sedan   \n",
       "4    europe         audi       gas        std         four        sedan   \n",
       "\n",
       "  drive-wheels engine-location engine-type num-of-cylinders  ... peak-rpm  \\\n",
       "0          rwd           front        dohc             four  ...     5000   \n",
       "1          rwd           front        dohc             four  ...     5000   \n",
       "2          rwd           front        ohcv              six  ...     5000   \n",
       "3          fwd           front         ohc             four  ...     5500   \n",
       "4          4wd           front         ohc             five  ...     5500   \n",
       "\n",
       "   city-mpg  highway-mpg  price  wheel-base  length  width  height  \\\n",
       "0        21           27  13495        88.6   168.8   64.1    48.8   \n",
       "1        21           27  16500        88.6   168.8   64.1    48.8   \n",
       "2        19           26  16500        94.5   171.2   65.5    52.4   \n",
       "3        24           30  13950        99.8   176.6   66.2    54.3   \n",
       "4        18           22  17450        99.4   176.6   66.4    54.3   \n",
       "\n",
       "   curb-weight  engine-size  \n",
       "0         2548          130  \n",
       "1         2548          130  \n",
       "2         2823          152  \n",
       "3         2337          109  \n",
       "4         2824          136  \n",
       "\n",
       "[5 rows x 25 columns]"
      ]
     },
     "execution_count": 9,
     "metadata": {},
     "output_type": "execute_result"
    }
   ],
   "source": [
    "dataset.head()"
   ]
  },
  {
   "cell_type": "code",
   "execution_count": 43,
   "metadata": {},
   "outputs": [
    {
     "name": "stdout",
     "output_type": "stream",
     "text": [
      "          count unique   top freq\n",
      "continent   193      3  asie  102\n",
      "____________________________________________________________________________\n",
      "     count unique     top freq\n",
      "make   193     20  toyota   32\n",
      "____________________________________________________________________________\n",
      "          count unique  top freq\n",
      "fuel-type   193      2  gas  174\n",
      "____________________________________________________________________________\n",
      "           count unique  top freq\n",
      "aspiration   193      2  std  158\n",
      "____________________________________________________________________________\n",
      "             count unique   top freq\n",
      "num-of-doors   193      2  four  112\n",
      "____________________________________________________________________________\n",
      "           count unique    top freq\n",
      "body-style   193      5  sedan   92\n",
      "____________________________________________________________________________\n",
      "             count unique  top freq\n",
      "drive-wheels   193      3  fwd  114\n",
      "____________________________________________________________________________\n",
      "                count unique    top freq\n",
      "engine-location   193      2  front  190\n",
      "____________________________________________________________________________\n",
      "            count unique  top freq\n",
      "engine-type   193      5  ohc  141\n",
      "____________________________________________________________________________\n",
      "                 count unique   top freq\n",
      "num-of-cylinders   193      6  four  153\n",
      "____________________________________________________________________________\n",
      "            count unique   top freq\n",
      "fuel-system   193      7  mpfi   88\n",
      "____________________________________________________________________________\n",
      "      count      mean       std   min   25%   50%   75%   max\n",
      "bore  193.0  3.330622  0.272385  2.54  3.15  3.31  3.59  3.94\n",
      "____________________________________________________________________________\n",
      "        count     mean       std   min   25%   50%   75%   max\n",
      "stroke  193.0  3.24886  0.315421  2.07  3.11  3.29  3.41  4.17\n",
      "____________________________________________________________________________\n",
      "                   count       mean       std  min  25%  50%  75%   max\n",
      "compression-ratio  193.0  10.143627  3.977491  7.0  8.5  9.0  9.4  23.0\n",
      "____________________________________________________________________________\n",
      "            count        mean        std   min   25%   50%    75%    max\n",
      "horsepower  193.0  103.481865  37.960107  48.0  70.0  95.0  116.0  262.0\n",
      "____________________________________________________________________________\n",
      "          count         mean         std     min     25%     50%     75%  \\\n",
      "peak-rpm  193.0  5099.740933  468.694369  4150.0  4800.0  5100.0  5500.0   \n",
      "\n",
      "             max  \n",
      "peak-rpm  6600.0  \n",
      "____________________________________________________________________________\n",
      "          count       mean       std   min   25%   50%   75%   max\n",
      "city-mpg  193.0  25.326425  6.387828  13.0  19.0  25.0  30.0  49.0\n",
      "____________________________________________________________________________\n",
      "             count       mean      std   min   25%   50%   75%   max\n",
      "highway-mpg  193.0  30.787565  6.81691  16.0  25.0  30.0  34.0  54.0\n",
      "____________________________________________________________________________\n",
      "       count          mean          std     min     25%      50%      75%  \\\n",
      "price  193.0  13285.025907  8089.082886  5118.0  7738.0  10245.0  16515.0   \n",
      "\n",
      "           max  \n",
      "price  45400.0  \n",
      "____________________________________________________________________________\n",
      "            count       mean       std   min   25%   50%    75%    max\n",
      "wheel-base  193.0  98.923834  6.152409  86.6  94.5  97.0  102.4  120.9\n",
      "____________________________________________________________________________\n",
      "        count        mean        std    min    25%    50%    75%    max\n",
      "length  193.0  174.326425  12.478593  141.1  166.3  173.2  184.6  208.1\n",
      "____________________________________________________________________________\n",
      "       count       mean       std   min   25%   50%   75%   max\n",
      "width  193.0  65.893782  2.137795  60.3  64.1  65.4  66.9  72.0\n",
      "____________________________________________________________________________\n",
      "        count       mean      std   min   25%   50%   75%   max\n",
      "height  193.0  53.869948  2.39477  47.8  52.0  54.1  55.7  59.8\n",
      "____________________________________________________________________________\n",
      "             count         mean         std     min     25%     50%     75%  \\\n",
      "curb-weight  193.0  2561.507772  526.700026  1488.0  2145.0  2414.0  2952.0   \n",
      "\n",
      "                max  \n",
      "curb-weight  4066.0  \n",
      "____________________________________________________________________________\n",
      "             count        mean        std   min   25%    50%    75%    max\n",
      "engine-size  193.0  128.124352  41.590452  61.0  98.0  120.0  146.0  326.0\n",
      "____________________________________________________________________________\n"
     ]
    }
   ],
   "source": [
    "for v in dataset.columns:\n",
    "    print((pd.DataFrame(dataset[v].describe()).T))\n",
    "    print(\"____________________________________________________________________________\")\n"
   ]
  },
  {
   "cell_type": "code",
   "execution_count": 5,
   "metadata": {},
   "outputs": [
    {
     "name": "stdout",
     "output_type": "stream",
     "text": [
      "<class 'pandas.core.frame.DataFrame'>\n",
      "RangeIndex: 193 entries, 0 to 192\n",
      "Data columns (total 25 columns):\n",
      " #   Column             Non-Null Count  Dtype  \n",
      "---  ------             --------------  -----  \n",
      " 0   continent          193 non-null    object \n",
      " 1   make               193 non-null    object \n",
      " 2   fuel-type          193 non-null    object \n",
      " 3   aspiration         193 non-null    object \n",
      " 4   num-of-doors       193 non-null    object \n",
      " 5   body-style         193 non-null    object \n",
      " 6   drive-wheels       193 non-null    object \n",
      " 7   engine-location    193 non-null    object \n",
      " 8   engine-type        193 non-null    object \n",
      " 9   num-of-cylinders   193 non-null    object \n",
      " 10  fuel-system        193 non-null    object \n",
      " 11  bore               193 non-null    float64\n",
      " 12  stroke             193 non-null    float64\n",
      " 13  compression-ratio  193 non-null    float64\n",
      " 14  horsepower         193 non-null    int64  \n",
      " 15  peak-rpm           193 non-null    int64  \n",
      " 16  city-mpg           193 non-null    int64  \n",
      " 17  highway-mpg        193 non-null    int64  \n",
      " 18  price              193 non-null    int64  \n",
      " 19  wheel-base         193 non-null    float64\n",
      " 20  length             193 non-null    float64\n",
      " 21  width              193 non-null    float64\n",
      " 22  height             193 non-null    float64\n",
      " 23  curb-weight        193 non-null    int64  \n",
      " 24  engine-size        193 non-null    int64  \n",
      "dtypes: float64(7), int64(7), object(11)\n",
      "memory usage: 37.8+ KB\n"
     ]
    }
   ],
   "source": [
    "dataset.info()"
   ]
  },
  {
   "cell_type": "code",
   "execution_count": null,
   "metadata": {},
   "outputs": [],
   "source": []
  },
  {
   "cell_type": "code",
   "execution_count": 19,
   "metadata": {},
   "outputs": [
    {
     "name": "stdout",
     "output_type": "stream",
     "text": [
      "PearsonRResult(statistic=-0.06841959580719016, pvalue=0.3444295721729679)\n"
     ]
    }
   ],
   "source": [
    "array=dataset.values[:,11:24]\n",
    "print(pearsonr(array[:,1], array[:,4]))"
   ]
  },
  {
   "cell_type": "code",
   "execution_count": 20,
   "metadata": {},
   "outputs": [
    {
     "data": {
      "text/plain": [
       "array([[ 2.09550389e+02, -8.61158973e+01,  5.33670724e+01, ...,\n",
       "        -8.55097649e-01,  4.68272398e-01,  1.26675144e-02],\n",
       "       [ 3.21002282e+03, -1.94028812e+01,  2.04020585e+02, ...,\n",
       "        -9.84007697e-01,  4.31624449e-01, -6.54100831e-04],\n",
       "       [ 3.22514974e+03, -1.01987192e+02, -5.92107004e+01, ...,\n",
       "         5.11942668e-02, -3.77988203e-01,  7.61927595e-01],\n",
       "       ...,\n",
       "       [ 8.20983687e+03,  4.27662460e+02, -1.39894015e+02, ...,\n",
       "         2.99393877e-01,  4.82917420e-01, -6.86207090e-03],\n",
       "       [ 9.20863522e+03, -2.79812503e+02, -7.27133290e+01, ...,\n",
       "        -5.78388356e-01, -2.02983038e-02,  4.18056064e-01],\n",
       "       [ 9.35136724e+03,  3.42346066e+02, -9.92743939e+01, ...,\n",
       "         3.36250550e-01,  2.63628015e-01, -3.13244813e-01]])"
      ]
     },
     "execution_count": 20,
     "metadata": {},
     "output_type": "execute_result"
    }
   ],
   "source": [
    "model_acp=PCA()\n",
    "\n",
    "acp = model_acp.fit_transform(array)\n",
    "acp"
   ]
  },
  {
   "cell_type": "code",
   "execution_count": 25,
   "metadata": {},
   "outputs": [
    {
     "data": {
      "text/plain": [
       "PearsonRResult(statistic=7.101069507674944e-17, pvalue=1.0000000000000007)"
      ]
     },
     "execution_count": 25,
     "metadata": {},
     "output_type": "execute_result"
    }
   ],
   "source": [
    "comp1 = acp[:,0]\n",
    "comp2 = acp[:,1]\n",
    "comp3 = acp[:,3]\n",
    "pearsonr(comp1, comp2)"
   ]
  },
  {
   "cell_type": "code",
   "execution_count": 30,
   "metadata": {},
   "outputs": [
    {
     "data": {
      "text/plain": [
       "array([6.56305943e+07, 2.32330739e+05, 6.87198267e+04, 3.76095209e+02,\n",
       "       3.96672787e+01, 2.04484799e+01, 6.34760143e+00, 5.28238727e+00,\n",
       "       2.88287541e+00, 9.28777363e-01, 7.24902676e-01, 8.75785082e-02,\n",
       "       3.40463625e-02])"
      ]
     },
     "execution_count": 30,
     "metadata": {},
     "output_type": "execute_result"
    }
   ],
   "source": [
    "model_acp.explained_variance_"
   ]
  },
  {
   "cell_type": "code",
   "execution_count": 31,
   "metadata": {},
   "outputs": [
    {
     "data": {
      "text/plain": [
       "array([9.95427067e-01, 3.52378808e-03, 1.04228182e-03, 5.70428097e-06,\n",
       "       6.01638357e-07, 3.10144538e-07, 9.62748295e-08, 8.01185989e-08,\n",
       "       4.37249158e-08, 1.40868773e-08, 1.09946855e-08, 1.32831370e-09,\n",
       "       5.16385249e-10])"
      ]
     },
     "execution_count": 31,
     "metadata": {},
     "output_type": "execute_result"
    }
   ],
   "source": [
    "model_acp.explained_variance_ratio_"
   ]
  },
  {
   "cell_type": "code",
   "execution_count": 33,
   "metadata": {},
   "outputs": [
    {
     "data": {
      "text/plain": [
       "array([0.99542707, 0.99895086, 0.99999314, 0.99999884, 0.99999944,\n",
       "       0.99999975, 0.99999985, 0.99999993, 0.99999997, 0.99999999,\n",
       "       1.        , 1.        , 1.        ])"
      ]
     },
     "execution_count": 33,
     "metadata": {},
     "output_type": "execute_result"
    }
   ],
   "source": [
    "model_acp.explained_variance_ratio_.cumsum()"
   ]
  },
  {
   "cell_type": "code",
   "execution_count": 35,
   "metadata": {},
   "outputs": [
    {
     "data": {
      "text/plain": [
       "13"
      ]
     },
     "execution_count": 35,
     "metadata": {},
     "output_type": "execute_result"
    }
   ],
   "source": [
    "model_acp.n_components_"
   ]
  },
  {
   "cell_type": "code",
   "execution_count": 27,
   "metadata": {},
   "outputs": [
    {
     "data": {
      "image/png": "[encoded data removed]",
      "text/plain": [
       "<Figure size 640x480 with 1 Axes>"
      ]
     },
     "metadata": {},
     "output_type": "display_data"
    }
   ],
   "source": [
    "plt.scatter(comp1,comp2)\n",
    "plt.show()"
   ]
  }
 ],
 "metadata": {
  "kernelspec": {
   "display_name": "Python 3",
   "language": "python",
   "name": "python3"
  },
  "language_info": {
   "codemirror_mode": {
    "name": "ipython",
    "version": 3
   },
   "file_extension": ".py",
   "mimetype": "text/x-python",
   "name": "python",
   "nbconvert_exporter": "python",
   "pygments_lexer": "ipython3",
   "version": "3.10.10"
  },
  "orig_nbformat": 4
 },
 "nbformat": 4,
 "nbformat_minor": 2
}
